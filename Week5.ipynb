{
 "cells": [
  {
   "cell_type": "markdown",
   "metadata": {},
   "source": [
    "# Week 5"
   ]
  },
  {
   "cell_type": "markdown",
   "metadata": {},
   "source": [
    "## Flow Control: If, Operators, for, while\n",
    "## loop"
   ]
  },
  {
   "cell_type": "markdown",
   "metadata": {},
   "source": [
    "주어진 조건이 참(true)일 때 실행될 수 있도록 의사결정 프로그래밍을 할 때, '조건문'을 사용하다. '조건문' 이란 참과 거짓을 판단하는 문장이며, 조건문에는: if...else, while, for 문이 있다."
   ]
  },
  {
   "cell_type": "markdown",
   "metadata": {},
   "source": [
    "### 1. if loop"
   ]
  },
  {
   "cell_type": "markdown",
   "metadata": {},
   "source": [
    "#### 1) if...else statement"
   ]
  },
  {
   "cell_type": "markdown",
   "metadata": {},
   "source": [
    "if...else 쓰는 방법:"
   ]
  },
  {
   "cell_type": "markdown",
   "metadata": {},
   "source": [
    "    if test_statement:\n",
    "        execution1\n",
    "        execution2\n",
    "        ..."
   ]
  },
  {
   "cell_type": "markdown",
   "metadata": {},
   "source": [
    "- 실행 논리:\n",
    "    - if의 조건문인 test_statement가 참인지 거짓인지 평가한 후,  test_statement이 참일 경우 if 문의 명령이 실행된다.\n",
    "    - 만약, test_statement가 거짓인 경우, if 문의 명령은 실행되지 않는다."
   ]
  },
  {
   "cell_type": "markdown",
   "metadata": {},
   "source": [
    "- 표기 방법 및 주의\n",
    "    - if 절 밑에 들어가는 body 내용들은 모두 들여쓰기가 되어야 한다. 들여쓰기 정도에 따라 조건문의 모습과 실행 순서가 달라진다.\n",
    "    - 모든 if문은 반드시 조건문 다음에 ':'를 붙인다. "
   ]
  },
  {
   "cell_type": "markdown",
   "metadata": {},
   "source": [
    "### 2) if...else statement"
   ]
  },
  {
   "cell_type": "markdown",
   "metadata": {},
   "source": [
    "if 문 아래 조건문을 추가하고 싶을 때 else, elif 등을 사용한다."
   ]
  },
  {
   "cell_type": "markdown",
   "metadata": {},
   "source": [
    "if...else 문 쓰는 방법:"
   ]
  },
  {
   "cell_type": "markdown",
   "metadata": {},
   "source": [
    "    if test_statement:\n",
    "        execution x\n",
    "    else:\n",
    "        execution y"
   ]
  },
  {
   "cell_type": "markdown",
   "metadata": {},
   "source": [
    "만일 if 의 조건문 (test_statement)가 참일 경우 execution x가 실행되며, 거짓일 경우 else의 body인 execution y가 실행된다."
   ]
  },
  {
   "cell_type": "markdown",
   "metadata": {},
   "source": [
    "### 3) if...elif...else statement"
   ]
  },
  {
   "cell_type": "markdown",
   "metadata": {},
   "source": [
    "if...elif...else statement 쓰는 방법:"
   ]
  },
  {
   "cell_type": "markdown",
   "metadata": {},
   "source": [
    "    if test 1:\n",
    "        execution x\n",
    "    elif test n:\n",
    "        body of elif\n",
    "    elif test n+1:\n",
    "        body of elif:\n",
    "    elif test n+2\n",
    "        body of elif:\n",
    "    ...\n",
    "    else test 3:\n",
    "        exectution y"
   ]
  },
  {
   "cell_type": "markdown",
   "metadata": {},
   "source": [
    "- elif는 'else if'의 줄임말이며, 여러개의 조건을 넣고 싶을 때 사용 가능한 조건문이다.\n",
    "    - if 문의 조건이 False 일 경우, 다음 elif문에 있는 조건을 확인한다.\n",
    "    - 만약 모든 조건이 다 거짓일 경우, else 문의 body of else를 실행한다 (execution y)\n",
    "    - 각 조건문 (if, elif, else)는 하나의 조건문만 할당 가능하다.\n",
    "- if 문은 오직 하나의 else 문만 가질 수 있지만 여러개의 elif 문을 가질 수 있다."
   ]
  },
  {
   "cell_type": "markdown",
   "metadata": {},
   "source": [
    "## 2. Operators"
   ]
  },
  {
   "cell_type": "markdown",
   "metadata": {},
   "source": [
    "### 1) Arithematic Operators"
   ]
  },
  {
   "cell_type": "markdown",
   "metadata": {},
   "source": [
    "Week 2에서 배운 일반적인 파이썬 사칙연산자 사용"
   ]
  },
  {
   "cell_type": "markdown",
   "metadata": {},
   "source": [
    "### 2) Comparison Operators"
   ]
  },
  {
   "cell_type": "markdown",
   "metadata": {},
   "source": [
    "*비교연산자*"
   ]
  },
  {
   "cell_type": "markdown",
   "metadata": {},
   "source": [
    "- x<y : x가 y 보다 작다.\n",
    "- x>y : x가 y 보다 크다.\n",
    "- x==y : x와 y가 같다.\n",
    "- x!=y : x와 y가 같지 않다.\n",
    "- x>=y : x가 y 보다 크거나 같다.\n",
    "- x<=y : x가 y 보다 작거나 같다."
   ]
  },
  {
   "cell_type": "code",
   "execution_count": 3,
   "metadata": {},
   "outputs": [],
   "source": [
    "x=10\n",
    "y=11"
   ]
  },
  {
   "cell_type": "code",
   "execution_count": 7,
   "metadata": {},
   "outputs": [
    {
     "data": {
      "text/plain": [
       "True"
      ]
     },
     "execution_count": 7,
     "metadata": {},
     "output_type": "execute_result"
    }
   ],
   "source": [
    "x < y"
   ]
  },
  {
   "cell_type": "code",
   "execution_count": 8,
   "metadata": {},
   "outputs": [
    {
     "data": {
      "text/plain": [
       "False"
      ]
     },
     "execution_count": 8,
     "metadata": {},
     "output_type": "execute_result"
    }
   ],
   "source": [
    "x > y"
   ]
  },
  {
   "cell_type": "code",
   "execution_count": 10,
   "metadata": {},
   "outputs": [
    {
     "data": {
      "text/plain": [
       "False"
      ]
     },
     "execution_count": 10,
     "metadata": {},
     "output_type": "execute_result"
    }
   ],
   "source": [
    "x == y"
   ]
  },
  {
   "cell_type": "code",
   "execution_count": 13,
   "metadata": {},
   "outputs": [
    {
     "data": {
      "text/plain": [
       "True"
      ]
     },
     "execution_count": 13,
     "metadata": {},
     "output_type": "execute_result"
    }
   ],
   "source": [
    "x!=y"
   ]
  },
  {
   "cell_type": "code",
   "execution_count": 14,
   "metadata": {},
   "outputs": [
    {
     "data": {
      "text/plain": [
       "False"
      ]
     },
     "execution_count": 14,
     "metadata": {},
     "output_type": "execute_result"
    }
   ],
   "source": [
    "x>=y"
   ]
  },
  {
   "cell_type": "code",
   "execution_count": 15,
   "metadata": {},
   "outputs": [
    {
     "data": {
      "text/plain": [
       "True"
      ]
     },
     "execution_count": 15,
     "metadata": {},
     "output_type": "execute_result"
    }
   ],
   "source": [
    "x<=y"
   ]
  },
  {
   "cell_type": "code",
   "execution_count": 18,
   "metadata": {},
   "outputs": [
    {
     "name": "stdout",
     "output_type": "stream",
     "text": [
      "밖에 나가세요!\n"
     ]
    }
   ],
   "source": [
    "#temp: 오늘의 기온\n",
    "\n",
    "temp = 23\n",
    "if temp >= 0:\n",
    "    print ('밖에 나가세요!')\n",
    "else:\n",
    "    print ('집에 계시죠')"
   ]
  },
  {
   "cell_type": "markdown",
   "metadata": {},
   "source": [
    "### 3) Logical Operators"
   ]
  },
  {
   "cell_type": "markdown",
   "metadata": {},
   "source": [
    "*논리연산자*"
   ]
  },
  {
   "cell_type": "markdown",
   "metadata": {},
   "source": [
    "조건을 판단하기 위해 사용되는 연산자의 종류: and, or, not"
   ]
  },
  {
   "cell_type": "markdown",
   "metadata": {},
   "source": [
    "- x or y : x와 y 중 하나만 참이면 참\n",
    "- x and y : x와 y 둘 다 참일 때만 참\n",
    "- not x : x가 거짓이면 참"
   ]
  },
  {
   "cell_type": "code",
   "execution_count": 21,
   "metadata": {},
   "outputs": [
    {
     "name": "stdout",
     "output_type": "stream",
     "text": [
      "밖에 나가지 마세요\n"
     ]
    }
   ],
   "source": [
    "#춥지만 배고프면 나가라.\n",
    "#춥긴 하지만 배고프지 않으면 밖에 나가지 말아라\n",
    "#춥지는 않지만 배는 고프면 나가라\n",
    "#춥지도 않고 배도 고프지 않으면 나가지 마라\n",
    "\n",
    "temp=-1\n",
    "hungry=True\n",
    "\n",
    "if temp>0 and hungry:\n",
    "    print('밖에 나가세요')\n",
    "else:\n",
    "    print(\"밖에 나가지 마세요\")"
   ]
  },
  {
   "cell_type": "markdown",
   "metadata": {},
   "source": [
    "**중급 이상) TIP!"
   ]
  },
  {
   "cell_type": "markdown",
   "metadata": {},
   "source": [
    "if문 한 줄로 작성하기:\n",
    "    *if temp >=0: message = 'not cold' else: message = 'too cold'*"
   ]
  },
  {
   "cell_type": "markdown",
   "metadata": {},
   "source": [
    "을 파이썬의 조건부 표현식(conditional expression)을 이용하여 다음과 같이 간단하게 작성 가능"
   ]
  },
  {
   "cell_type": "code",
   "execution_count": 22,
   "metadata": {},
   "outputs": [],
   "source": [
    "temp=2\n",
    "message = 'not cold' if temp>=0 else 'too cold'"
   ]
  },
  {
   "cell_type": "code",
   "execution_count": 24,
   "metadata": {},
   "outputs": [
    {
     "data": {
      "text/plain": [
       "'not cold'"
      ]
     },
     "execution_count": 24,
     "metadata": {},
     "output_type": "execute_result"
    }
   ],
   "source": [
    "message"
   ]
  },
  {
   "cell_type": "markdown",
   "metadata": {},
   "source": [
    "## 2. For"
   ]
  },
  {
   "cell_type": "markdown",
   "metadata": {},
   "source": [
    "### 1) for loop"
   ]
  },
  {
   "cell_type": "markdown",
   "metadata": {},
   "source": [
    "for loop은 아래와 같이 쓴다."
   ]
  },
  {
   "cell_type": "markdown",
   "metadata": {},
   "source": [
    "    for x in list(or tuple, string)\n",
    "        execution 1\n",
    "        execution 2"
   ]
  },
  {
   "cell_type": "markdown",
   "metadata": {},
   "source": [
    "list, tuple, string의 첫 번째부터 마지막 요소까지 차례로 수행이 된다. (execution1, execution 2...)"
   ]
  },
  {
   "cell_type": "markdown",
   "metadata": {},
   "source": [
    "- for 문 역시 끝에 ':'을 붙여주어야 한다.\n",
    "- 이 역시 들여쓰기에 주의한다."
   ]
  },
  {
   "cell_type": "markdown",
   "metadata": {},
   "source": [
    "### 2) for 문과 list"
   ]
  },
  {
   "cell_type": "code",
   "execution_count": 27,
   "metadata": {},
   "outputs": [
    {
     "name": "stdout",
     "output_type": "stream",
     "text": [
      "jan\n",
      "feb\n",
      "march\n",
      "april\n"
     ]
    }
   ],
   "source": [
    "months = ['jan', 'feb', 'march', 'april']\n",
    "for m in months:\n",
    "    print(m)"
   ]
  },
  {
   "cell_type": "markdown",
   "metadata": {},
   "source": [
    "### 3) range()함수"
   ]
  },
  {
   "cell_type": "markdown",
   "metadata": {},
   "source": [
    "- range()함수는 자료의 범위를 생성해준다. \n",
    "- range()에 정해준 범위 중 끝값은 제외한 채 출력된다. \n",
    "- range() 함수는 다음과 같이 쓴다."
   ]
  },
  {
   "cell_type": "markdown",
   "metadata": {},
   "source": [
    "    range(start(또는 생략), stop)\n",
    "    or\n",
    "    range(start,stop,step size)"
   ]
  },
  {
   "cell_type": "code",
   "execution_count": 31,
   "metadata": {},
   "outputs": [
    {
     "name": "stdout",
     "output_type": "stream",
     "text": [
      "1\n",
      "2\n",
      "3\n",
      "4\n",
      "5\n",
      "6\n",
      "7\n",
      "8\n",
      "9\n"
     ]
    }
   ],
   "source": [
    "for i in range(1,10):\n",
    "    print(i)"
   ]
  },
  {
   "cell_type": "code",
   "execution_count": 33,
   "metadata": {},
   "outputs": [
    {
     "data": {
      "text/plain": [
       "range(1, 10)"
      ]
     },
     "execution_count": 33,
     "metadata": {},
     "output_type": "execute_result"
    }
   ],
   "source": [
    "test1 = range(1,10)\n",
    "test1"
   ]
  },
  {
   "cell_type": "code",
   "execution_count": 35,
   "metadata": {},
   "outputs": [
    {
     "data": {
      "text/plain": [
       "range(0, 10)"
      ]
     },
     "execution_count": 35,
     "metadata": {},
     "output_type": "execute_result"
    }
   ],
   "source": [
    "test2 = range(10)\n",
    "test2"
   ]
  },
  {
   "cell_type": "code",
   "execution_count": 38,
   "metadata": {},
   "outputs": [
    {
     "data": {
      "text/plain": [
       "range(0, 0)"
      ]
     },
     "execution_count": 38,
     "metadata": {},
     "output_type": "execute_result"
    }
   ],
   "source": [
    "test3 = range(0)\n",
    "test3"
   ]
  },
  {
   "cell_type": "markdown",
   "metadata": {},
   "source": [
    "- range() & len() & list()"
   ]
  },
  {
   "cell_type": "code",
   "execution_count": 40,
   "metadata": {},
   "outputs": [
    {
     "data": {
      "text/plain": [
       "range(0, 10)"
      ]
     },
     "execution_count": 40,
     "metadata": {},
     "output_type": "execute_result"
    }
   ],
   "source": [
    "range(0,10)"
   ]
  },
  {
   "cell_type": "code",
   "execution_count": 42,
   "metadata": {},
   "outputs": [
    {
     "data": {
      "text/plain": [
       "[0, 1, 2, 3, 4, 5, 6, 7, 8, 9]"
      ]
     },
     "execution_count": 42,
     "metadata": {},
     "output_type": "execute_result"
    }
   ],
   "source": [
    "list(range(10))"
   ]
  },
  {
   "cell_type": "code",
   "execution_count": 44,
   "metadata": {},
   "outputs": [
    {
     "data": {
      "text/plain": [
       "[2, 3, 4, 5, 6, 7]"
      ]
     },
     "execution_count": 44,
     "metadata": {},
     "output_type": "execute_result"
    }
   ],
   "source": [
    "list(range(2,8))"
   ]
  },
  {
   "cell_type": "code",
   "execution_count": 47,
   "metadata": {},
   "outputs": [
    {
     "data": {
      "text/plain": [
       "3"
      ]
     },
     "execution_count": 47,
     "metadata": {},
     "output_type": "execute_result"
    }
   ],
   "source": [
    "text = ['text',2,3]\n",
    "len(text)"
   ]
  },
  {
   "cell_type": "markdown",
   "metadata": {},
   "source": [
    "- range() 와 len()\n",
    "    - len()함수는 임의의 임력값 x의 길이(항목의 전체 개수)를 돌려주는 함수이다.\n",
    "    - 인자는 시퀀스 (문자열, 바이트열, 튜플, 리스트 또는 range 같은) 또는 컬렉션 (딕셔너리, 집합 또는 불변 집합 같은) 일 수 있다."
   ]
  },
  {
   "cell_type": "code",
   "execution_count": 49,
   "metadata": {},
   "outputs": [
    {
     "ename": "TypeError",
     "evalue": "'list' object cannot be interpreted as an integer",
     "output_type": "error",
     "traceback": [
      "\u001b[1;31m---------------------------------------------------------------------------\u001b[0m",
      "\u001b[1;31mTypeError\u001b[0m                                 Traceback (most recent call last)",
      "\u001b[1;32m<ipython-input-49-e307fe9df9c6>\u001b[0m in \u001b[0;36m<module>\u001b[1;34m\u001b[0m\n\u001b[1;32m----> 1\u001b[1;33m \u001b[0mrange\u001b[0m\u001b[1;33m(\u001b[0m\u001b[0mtext\u001b[0m\u001b[1;33m)\u001b[0m\u001b[1;33m\u001b[0m\u001b[1;33m\u001b[0m\u001b[0m\n\u001b[0m",
      "\u001b[1;31mTypeError\u001b[0m: 'list' object cannot be interpreted as an integer"
     ]
    }
   ],
   "source": [
    "range(text)"
   ]
  },
  {
   "cell_type": "code",
   "execution_count": 51,
   "metadata": {},
   "outputs": [
    {
     "data": {
      "text/plain": [
       "range(0, 3)"
      ]
     },
     "execution_count": 51,
     "metadata": {},
     "output_type": "execute_result"
    }
   ],
   "source": [
    "range(len(text))"
   ]
  },
  {
   "cell_type": "code",
   "execution_count": 53,
   "metadata": {},
   "outputs": [
    {
     "name": "stdout",
     "output_type": "stream",
     "text": [
      "봄학기의 0번째\n",
      "봄학기의 1번째\n",
      "봄학기의 2번째\n",
      "봄학기의 3번째\n",
      "봄학기의 4번째\n"
     ]
    }
   ],
   "source": [
    "months=['jan','feb','march','april','may']\n",
    "for i in range(len(months)):\n",
    "    print('봄학기의 {}번째'.format(i))"
   ]
  },
  {
   "cell_type": "code",
   "execution_count": 56,
   "metadata": {},
   "outputs": [
    {
     "name": "stdout",
     "output_type": "stream",
     "text": [
      "jan\n",
      "feb\n",
      "march\n",
      "april\n",
      "may\n"
     ]
    }
   ],
   "source": [
    "for name in months:\n",
    "    print('{}'.format(name))"
   ]
  },
  {
   "cell_type": "code",
   "execution_count": 64,
   "metadata": {},
   "outputs": [
    {
     "name": "stdout",
     "output_type": "stream",
     "text": [
      "봄학기의 1번째 달은 jan\n",
      "봄학기의 2번째 달은 feb\n",
      "봄학기의 3번째 달은 march\n",
      "봄학기의 4번째 달은 april\n",
      "봄학기의 5번째 달은 may\n"
     ]
    }
   ],
   "source": [
    "#위치와 값도 같이 필요할 땐 enumerate()을 쓴다.\n",
    "for i, name in enumerate(months):\n",
    "    print('봄학기의 {}번째 달은 {}'.format(i+1,name))\n",
    "    \n",
    "#i에는 위치 값이 들어가고, name에는 값이 들어가는 함수"
   ]
  },
  {
   "cell_type": "code",
   "execution_count": 71,
   "metadata": {},
   "outputs": [
    {
     "name": "stdout",
     "output_type": "stream",
     "text": [
      "My favorite game is 0\n",
      "My favorite game is 1\n",
      "My favorite game is 2\n",
      "My favorite game is 3\n"
     ]
    }
   ],
   "source": [
    "#먼저 리스트 하나를 생성\n",
    "mygame=['LOL','OW','BG','SC']\n",
    "\n",
    "#for loop에 range를 정해주고 인덱싱을 참조하면서 반복할 수 있게 len()사용\n",
    "for game in range(len(mygame)):\n",
    "    print('My favorite game is', game)"
   ]
  },
  {
   "cell_type": "code",
   "execution_count": 73,
   "metadata": {},
   "outputs": [
    {
     "name": "stdout",
     "output_type": "stream",
     "text": [
      "My favorite game is SC\n"
     ]
    }
   ],
   "source": [
    "print('My favorite game is', mygame[game])"
   ]
  },
  {
   "cell_type": "code",
   "execution_count": 76,
   "metadata": {},
   "outputs": [
    {
     "name": "stdout",
     "output_type": "stream",
     "text": [
      "My favorite game is LOL\n",
      "My favorite game is OW\n",
      "My favorite game is BG\n",
      "My favorite game is SC\n"
     ]
    }
   ],
   "source": [
    "for game in range(len(mygame)):\n",
    "    print('My favorite game is', mygame[game])"
   ]
  },
  {
   "cell_type": "markdown",
   "metadata": {},
   "source": [
    "### 4) for loop with else, break"
   ]
  },
  {
   "cell_type": "markdown",
   "metadata": {},
   "source": [
    "- for loop 도 else 블록을 가질 수 있다.\n",
    "- for loop 에서 실행될 것이 끝난 후 else block이 실행된다.\n",
    "- for loop 을 정지하고 싶을 때, break 문을 사용할 수 있다. 이럴 때 else block은 무시된다. 즉, else block은 break가 없을 때 실행 되는 것!"
   ]
  },
  {
   "cell_type": "code",
   "execution_count": 79,
   "metadata": {},
   "outputs": [
    {
     "name": "stdout",
     "output_type": "stream",
     "text": [
      "0\n",
      "1\n",
      "2\n",
      "3\n",
      "4\n",
      "else statement\n"
     ]
    }
   ],
   "source": [
    "#for, else 만 있는 경우:\n",
    "\n",
    "for mylist in range(0,5):\n",
    "    print(mylist)\n",
    "else:\n",
    "    print('else statement')"
   ]
  },
  {
   "cell_type": "code",
   "execution_count": 81,
   "metadata": {},
   "outputs": [
    {
     "name": "stdout",
     "output_type": "stream",
     "text": [
      "0\n",
      "1\n",
      "2\n",
      "3\n"
     ]
    }
   ],
   "source": [
    "#break문을 만나는 경우\n",
    "\n",
    "for mylist in range(0,5):\n",
    "    print(mylist)\n",
    "    if mylist==3:\n",
    "        break;\n",
    "else:\n",
    "    print('else statement')"
   ]
  },
  {
   "cell_type": "markdown",
   "metadata": {},
   "source": [
    "## 3. While loop"
   ]
  },
  {
   "cell_type": "markdown",
   "metadata": {},
   "source": [
    "list에 있는 모든 요소를 실행하는 for 문과는 달리, while 문은 특정 조건이 참일 때 실행된다. 조건이 false 일 때 while loop은 멈춘다."
   ]
  },
  {
   "cell_type": "markdown",
   "metadata": {},
   "source": [
    "while loop 쓰는 방법:"
   ]
  },
  {
   "cell_type": "markdown",
   "metadata": {},
   "source": [
    "    while statement\n",
    "            execution1\n",
    "            execution2\n",
    "            ..."
   ]
  },
  {
   "cell_type": "markdown",
   "metadata": {},
   "source": [
    "while statement가 참일 때만 execution1이 실행 되며, 다시 statement의 평가 후 참일 경우 execution 실행. 이는 statement 평가가 거짓이 될 때까지 반복. "
   ]
  },
  {
   "cell_type": "markdown",
   "metadata": {},
   "source": [
    "### 1) while loop 활용"
   ]
  },
  {
   "cell_type": "code",
   "execution_count": 83,
   "metadata": {},
   "outputs": [
    {
     "name": "stdout",
     "output_type": "stream",
     "text": [
      "1\n",
      "2\n",
      "3\n",
      "4\n",
      "5\n"
     ]
    }
   ],
   "source": [
    "i=1\n",
    "while i<6:\n",
    "    print(i)\n",
    "    i += 1\n",
    "    #i = i+1"
   ]
  },
  {
   "cell_type": "markdown",
   "metadata": {},
   "source": [
    "### 2) while loop, else, break"
   ]
  },
  {
   "cell_type": "code",
   "execution_count": 88,
   "metadata": {},
   "outputs": [
    {
     "name": "stdout",
     "output_type": "stream",
     "text": [
      "남은 게임 횟수는 4회입니다\n",
      "남은 게임 횟수는 3회입니다\n",
      "남은 게임 횟수는 2회입니다\n",
      "남은 게임 횟수는 1회입니다\n",
      "남은 게임 횟수는 0회입니다\n"
     ]
    }
   ],
   "source": [
    "game=5\n",
    "money=180\n",
    "\n",
    "#조건  1. money<=100\n",
    "if money <=100:\n",
    "    print('돈이 더 필요해')\n",
    "else:\n",
    "#조건2. money>100\n",
    "    while game:\n",
    "        game = game -1\n",
    "        print('남은 게임 횟수는 {}회입니다'.format(game))"
   ]
  }
 ],
 "metadata": {
  "kernelspec": {
   "display_name": "Python 3",
   "language": "python",
   "name": "python3"
  },
  "language_info": {
   "codemirror_mode": {
    "name": "ipython",
    "version": 3
   },
   "file_extension": ".py",
   "mimetype": "text/x-python",
   "name": "python",
   "nbconvert_exporter": "python",
   "pygments_lexer": "ipython3",
   "version": "3.7.3"
  }
 },
 "nbformat": 4,
 "nbformat_minor": 2
}
