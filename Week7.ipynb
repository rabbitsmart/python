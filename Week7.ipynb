{
 "cells": [
  {
   "cell_type": "markdown",
   "metadata": {},
   "source": [
    "# Class"
   ]
  },
  {
   "cell_type": "markdown",
   "metadata": {},
   "source": [
    "## 1. Class 관련 중요 개념:"
   ]
  },
  {
   "cell_type": "markdown",
   "metadata": {},
   "source": [
    "**1.Class**: 비슷한 속성을 가진 객체를 묶는 큰 틀\n",
    "   (보통 클래스와 객체는 과자를 만들어내는 틀과 과자 자체로 비유되곤 한다.)"
   ]
  },
  {
   "cell_type": "markdown",
   "metadata": {},
   "source": [
    "**2.Object:** 클래스 안에서 정의 되는 특별한 함수"
   ]
  },
  {
   "cell_type": "markdown",
   "metadata": {},
   "source": [
    "**3.Instance:** 어떤 클래스 안에 있는 특정 객체"
   ]
  },
  {
   "cell_type": "markdown",
   "metadata": {},
   "source": [
    "**4.Instantiation:** 클래스의 객체를 만들어내는 과정"
   ]
  },
  {
   "cell_type": "markdown",
   "metadata": {},
   "source": [
    "**5.Class variable:** 클래스의 모든 객체에 공유되는 변수. Class Variable은 해당 클래스 밖에서는 통용되지 않는다. 보통 인스턴스 변수보다 덜 사용된다."
   ]
  },
  {
   "cell_type": "markdown",
   "metadata": {},
   "source": [
    "**6.Data Member:** 클래스와 클래스의 객체에 대한 정보를 갖는 클래스 변수 또는 인스턴스 변수"
   ]
  },
  {
   "cell_type": "markdown",
   "metadata": {},
   "source": [
    "**7.Function Overloading**: 하나의 함수에 여러 개의 함수식을 배정하는 경우. 해당 함수의 작동은 관련된 객체의 종류 등에 따라서 달라진다."
   ]
  },
  {
   "cell_type": "markdown",
   "metadata": {},
   "source": [
    "**8.Instance Variable:** 클래스 안에 하나의 인스턴스에만 정의되는 변수"
   ]
  },
  {
   "cell_type": "markdown",
   "metadata": {},
   "source": [
    "**9.Operator Overloading:** 하나의 오퍼레이터에 하나 이상의 함수를 부여하는 것"
   ]
  },
  {
   "cell_type": "markdown",
   "metadata": {},
   "source": [
    "## 2. Methods:"
   ]
  },
  {
   "cell_type": "markdown",
   "metadata": {},
   "source": [
    "객체를 어떤 클래스에 들어갈 수 있도록 해주는 것을 메소드(Method)라고 한다. 오브젝트는 (class)로 생성 된 것이고, 메소드는 클래스에 정의된 함수이다. \n",
    "\n",
    "예를 들어 \"강아지가 짖는다.\" 라는 문장이 있으면, \"강아지\"는 \"애완동물\"이라는 클래스로 생성된 \"오브젝트(객체)\"이고, \"짖는다\"는 \"애완동물\"에 정의된 \"메소드\"라고 볼 수 있다. 마찬가지로 \"애완동물\"이라는 클래스에는 \"먹는다\", \"잔다\", \"달린다\" 와 같은 메소드가 정의될 수 있다."
   ]
  },
  {
   "cell_type": "markdown",
   "metadata": {},
   "source": [
    "파이썬에서 메소드의 표기는 다음과 같다:\n",
    "\n",
    "    object.method(parameter)"
   ]
  },
  {
   "cell_type": "code",
   "execution_count": 24,
   "metadata": {},
   "outputs": [],
   "source": [
    "class Dog():\n",
    "    def __init__(self, name, age, breed): #메소드\n",
    "        self.name=name\n",
    "        self.age=age\n",
    "        self.breed=breed\n",
    "        \n",
    "        #메소드의 첫 인자는 self로 한다.\n",
    "        #self는 객체가 아닌 메소드 안의 여러 객체를 구별하는 용도의 인자.\n",
    "        #self말고 다른 이름을 사용해도 되지만 관습적으로 self를 사용한다.\n",
    "        \n",
    "    def sit(self):\n",
    "        print(self.name.title()+\" is now sitting.\")\n",
    "    \n",
    "    #.title()이 없어도 함수 제대로 작동하는데 왜 필요한걸까..?\n",
    "    \n",
    "    def roll_over(self):\n",
    "        print(self.name.title()+\" rolled over!\")"
   ]
  },
  {
   "cell_type": "code",
   "execution_count": 25,
   "metadata": {},
   "outputs": [
    {
     "name": "stdout",
     "output_type": "stream",
     "text": [
      "My dog's name is Lucky.\n",
      "He/she is 17 years old.\n",
      "He's a Poodle.\n"
     ]
    }
   ],
   "source": [
    "myPet=Dog(\"Lucky\",17,'Poodle')\n",
    "print(\"My dog's name is \"+myPet.name+\".\")\n",
    "print(\"He/she is \"+ str(myPet.age)+\" years old.\")\n",
    "print(\"He's a \"+myPet.breed+\".\")"
   ]
  },
  {
   "cell_type": "code",
   "execution_count": 27,
   "metadata": {},
   "outputs": [
    {
     "name": "stdout",
     "output_type": "stream",
     "text": [
      "Lucky is now sitting.\n",
      "Lucky rolled over!\n"
     ]
    }
   ],
   "source": [
    "myPet.sit()\n",
    "myPet.roll_over()"
   ]
  },
  {
   "cell_type": "code",
   "execution_count": 30,
   "metadata": {},
   "outputs": [
    {
     "name": "stdout",
     "output_type": "stream",
     "text": [
      "My neighbor's dog's name is Shiro.\n",
      "She is 3 years old.\n",
      "She is a pure blood shichu.\n"
     ]
    }
   ],
   "source": [
    "Neighbor_dog=Dog(\"Shiro\", 3, \"shichu\" )\n",
    "print(\"My neighbor's dog's name is \"+Neighbor_dog.name+\".\")\n",
    "print(\"She is \"+str(Neighbor_dog.age)+\" years old.\")\n",
    "\n",
    "#str()없이는 함수가 작동하지 않는다.. 왜그럴까..? \n",
    "\n",
    "print(\"She is a pure blood \"+Neighbor_dog.breed+\".\")"
   ]
  },
  {
   "cell_type": "markdown",
   "metadata": {},
   "source": [
    "## 3. 클래스 만들기"
   ]
  },
  {
   "cell_type": "markdown",
   "metadata": {},
   "source": [
    "1) 객체를 생성할 수 있도록 클래스 생성"
   ]
  },
  {
   "cell_type": "code",
   "execution_count": 40,
   "metadata": {},
   "outputs": [],
   "source": [
    "class FourCal:\n",
    "    pass\n",
    "\n",
    "#FourCal이라는 클래스는 아무런 변수도 함수도 포함하고 있지 않지만 원하는 객체를 생성할 수 있다.\n",
    "#pass는 아무것도 수행하지 않는다는 문법으로 임시로 코드를 작성할 때 주로 사용"
   ]
  },
  {
   "cell_type": "markdown",
   "metadata": {},
   "source": [
    "2) 객체 생성"
   ]
  },
  {
   "cell_type": "code",
   "execution_count": 39,
   "metadata": {},
   "outputs": [
    {
     "data": {
      "text/plain": [
       "__main__.FourCal"
      ]
     },
     "execution_count": 39,
     "metadata": {},
     "output_type": "execute_result"
    }
   ],
   "source": [
    "a=FourCal()\n",
    "type(a)\n",
    "\n",
    "#type(a)는 a라는 객체가 어떤 타입인지를 알아보는 것.\n",
    "#FourCal이라는 클래스의 객체임을 알 수 있다."
   ]
  },
  {
   "cell_type": "markdown",
   "metadata": {},
   "source": [
    "3) 객체에 숫자 지정할 수 있게 만들기"
   ]
  },
  {
   "cell_type": "code",
   "execution_count": 41,
   "metadata": {},
   "outputs": [],
   "source": [
    "class FourCal:\n",
    "    def setdata(self, first, second):  #메서드의 매개변수\n",
    "        self.first = first             #메서드의 수행문\n",
    "        self.second = second           #메서드의 수행문\n",
    "        \n",
    "        #위의 예시에는 __init__라는 함수를 썼는데, 그런 경우, 객체를 정의할 때 바로 변수를 넣을 수 있다..?)"
   ]
  },
  {
   "cell_type": "code",
   "execution_count": 45,
   "metadata": {},
   "outputs": [
    {
     "name": "stdout",
     "output_type": "stream",
     "text": [
      "4\n",
      "2\n"
     ]
    }
   ],
   "source": [
    "a=FourCal()\n",
    "a.setdata(4,2)\n",
    "\n",
    "#self 인자에는 객체 자체인 a 가 전달되고,\n",
    "#4와 2는 first와 second에 차례로 전달된다.\n",
    "\n",
    "print(a.first)\n",
    "print(a.second)"
   ]
  },
  {
   "cell_type": "code",
   "execution_count": 47,
   "metadata": {},
   "outputs": [
    {
     "name": "stdout",
     "output_type": "stream",
     "text": [
      "4\n",
      "3\n"
     ]
    }
   ],
   "source": [
    "a=FourCal()\n",
    "b=FourCal()\n",
    "a.setdata(4,2)\n",
    "b.setdata(3,7)\n",
    "print(a.first)\n",
    "print(b.first)"
   ]
  },
  {
   "cell_type": "markdown",
   "metadata": {},
   "source": [
    "4) 더하기 기능 만들어보자"
   ]
  },
  {
   "cell_type": "code",
   "execution_count": 50,
   "metadata": {},
   "outputs": [
    {
     "name": "stdout",
     "output_type": "stream",
     "text": [
      "7\n"
     ]
    }
   ],
   "source": [
    "class FourCal:\n",
    "    def setdata(self, first, second):\n",
    "        self.first = first\n",
    "        self.second = second\n",
    "        \n",
    "    def add(self):\n",
    "        result=self.first+self.second\n",
    "        return result\n",
    "    \n",
    "    #add 메서드의 self는 매개변수이고 self의 변환 값은 result이다.\n",
    "    #a.add()와 같이 a 객체에 의해 add 매세드가 수행되면....\n",
    "    #self에 객체 a가 자동으로 입력되므로 다음과 같이 해석된다.\n",
    "    #a.first + a.second\n",
    "    \n",
    "a=FourCal()\n",
    "a.setdata(3,4)\n",
    "\n",
    "print(a.add())"
   ]
  },
  {
   "cell_type": "markdown",
   "metadata": {},
   "source": [
    "5) 더하기, 빼기, 곱하기, 나누기 기능이 있는 프로그램을 작성해보자"
   ]
  },
  {
   "cell_type": "code",
   "execution_count": 51,
   "metadata": {},
   "outputs": [
    {
     "name": "stdout",
     "output_type": "stream",
     "text": [
      "8\n",
      "4\n",
      "12\n",
      "3.0\n",
      "12\n",
      "4\n",
      "32\n",
      "2.0\n"
     ]
    }
   ],
   "source": [
    "class FourCal:\n",
    "    def setdata(self, first, second):\n",
    "        self.first = first\n",
    "        self.second = second\n",
    "        \n",
    "    def add(self):\n",
    "        result=self.first+self.second\n",
    "        return result\n",
    "        \n",
    "    def subtract(self):\n",
    "        result=self.first-self.second\n",
    "        return result\n",
    "        \n",
    "    def multiply(self):\n",
    "        result=self.first*self.second\n",
    "        return result\n",
    "        \n",
    "    def divide(self):\n",
    "        result=self.first/self.second\n",
    "        return result\n",
    "    \n",
    "a=FourCal()\n",
    "a.setdata(6,2)\n",
    "\n",
    "b=FourCal()\n",
    "b.setdata(8,4)\n",
    "\n",
    "print(a.add())\n",
    "print(a.subtract())\n",
    "print(a.multiply())\n",
    "print(a.divide())\n",
    "print(b.add())\n",
    "print(b.subtract())\n",
    "print(b.multiply())\n",
    "print(b.divide())\n",
    "\n"
   ]
  },
  {
   "cell_type": "markdown",
   "metadata": {},
   "source": [
    "** 주의: 맨위 예시에서 __init__ 생성자를 사용할 경우.. 객체가 생성되는 시점:a=FourCal()이 작성될 때 변수들이 호출 되기 때문에 바로 first와 second 인자에 들어갈 변수들을 입력해주어야 한다. ex: a=FourCal(3,4)"
   ]
  },
  {
   "cell_type": "markdown",
   "metadata": {},
   "source": [
    "## 4. 클래스 상속"
   ]
  },
  {
   "cell_type": "markdown",
   "metadata": {},
   "source": [
    "말 그대로 전에 사용한 클래스를 상속 받아, 그 기능을 그대로 사용하는 것을 말한다.\n",
    "형태는 다음과 같다.\n",
    "\n",
    "class classname (상속받을 class):"
   ]
  },
  {
   "cell_type": "markdown",
   "metadata": {},
   "source": [
    "그렇다면 FourCal 클래스에 제곱 기능을 추가해보자."
   ]
  },
  {
   "cell_type": "code",
   "execution_count": 52,
   "metadata": {},
   "outputs": [],
   "source": [
    "class MoreFourCal(FourCal):\n",
    "    pass"
   ]
  },
  {
   "cell_type": "code",
   "execution_count": 54,
   "metadata": {},
   "outputs": [
    {
     "data": {
      "text/plain": [
       "8"
      ]
     },
     "execution_count": 54,
     "metadata": {},
     "output_type": "execute_result"
    }
   ],
   "source": [
    "a=MoreFourCal()\n",
    "a.setdata(4,2)\n",
    "\n",
    "a.multiply()\n",
    "\n",
    "#MoreFourCal 역시 FourCal과 마찬가지로 정상작으로 사칙연산 계산 가능\n",
    "#이는 기존 파일을 보존하기 위해 복사 후 수정하는 상황과 유사한 상황에서 사용하면 좋다."
   ]
  },
  {
   "cell_type": "code",
   "execution_count": 56,
   "metadata": {},
   "outputs": [
    {
     "name": "stdout",
     "output_type": "stream",
     "text": [
      "0.5\n",
      "16\n"
     ]
    }
   ],
   "source": [
    "class MoreFourCal(FourCal):\n",
    "    def power(self):\n",
    "        result = self.first**self.second\n",
    "        return result\n",
    "    \n",
    "a=MoreFourCal()\n",
    "a.setdata(2,4)\n",
    "\n",
    "print(a.divide())\n",
    "print(a.power())"
   ]
  },
  {
   "cell_type": "markdown",
   "metadata": {},
   "source": [
    "## 5. 메서드 오버라이딩"
   ]
  },
  {
   "cell_type": "markdown",
   "metadata": {},
   "source": [
    "기존 FourCal 클래스의 divide 메서드에 4,0 을 넣어보자."
   ]
  },
  {
   "cell_type": "code",
   "execution_count": 60,
   "metadata": {},
   "outputs": [
    {
     "name": "stdout",
     "output_type": "stream",
     "text": [
      "4\n"
     ]
    },
    {
     "ename": "ZeroDivisionError",
     "evalue": "division by zero",
     "output_type": "error",
     "traceback": [
      "\u001b[1;31m---------------------------------------------------------------------------\u001b[0m",
      "\u001b[1;31mZeroDivisionError\u001b[0m                         Traceback (most recent call last)",
      "\u001b[1;32m<ipython-input-60-30b5d6c78329>\u001b[0m in \u001b[0;36m<module>\u001b[1;34m\u001b[0m\n\u001b[0;32m      3\u001b[0m \u001b[1;33m\u001b[0m\u001b[0m\n\u001b[0;32m      4\u001b[0m \u001b[0mprint\u001b[0m\u001b[1;33m(\u001b[0m\u001b[0mc\u001b[0m\u001b[1;33m.\u001b[0m\u001b[0madd\u001b[0m\u001b[1;33m(\u001b[0m\u001b[1;33m)\u001b[0m\u001b[1;33m)\u001b[0m\u001b[1;33m\u001b[0m\u001b[1;33m\u001b[0m\u001b[0m\n\u001b[1;32m----> 5\u001b[1;33m \u001b[0mprint\u001b[0m\u001b[1;33m(\u001b[0m\u001b[0mc\u001b[0m\u001b[1;33m.\u001b[0m\u001b[0mdivide\u001b[0m\u001b[1;33m(\u001b[0m\u001b[1;33m)\u001b[0m\u001b[1;33m)\u001b[0m\u001b[1;33m\u001b[0m\u001b[1;33m\u001b[0m\u001b[0m\n\u001b[0m\u001b[0;32m      6\u001b[0m \u001b[1;33m\u001b[0m\u001b[0m\n\u001b[0;32m      7\u001b[0m \u001b[1;31m#0으로 나누는 ZeroDivisionError가 발생\u001b[0m\u001b[1;33m\u001b[0m\u001b[1;33m\u001b[0m\u001b[1;33m\u001b[0m\u001b[0m\n",
      "\u001b[1;32m<ipython-input-51-a162f2beabc5>\u001b[0m in \u001b[0;36mdivide\u001b[1;34m(self)\u001b[0m\n\u001b[0;32m     17\u001b[0m \u001b[1;33m\u001b[0m\u001b[0m\n\u001b[0;32m     18\u001b[0m     \u001b[1;32mdef\u001b[0m \u001b[0mdivide\u001b[0m\u001b[1;33m(\u001b[0m\u001b[0mself\u001b[0m\u001b[1;33m)\u001b[0m\u001b[1;33m:\u001b[0m\u001b[1;33m\u001b[0m\u001b[1;33m\u001b[0m\u001b[0m\n\u001b[1;32m---> 19\u001b[1;33m         \u001b[0mresult\u001b[0m\u001b[1;33m=\u001b[0m\u001b[0mself\u001b[0m\u001b[1;33m.\u001b[0m\u001b[0mfirst\u001b[0m\u001b[1;33m/\u001b[0m\u001b[0mself\u001b[0m\u001b[1;33m.\u001b[0m\u001b[0msecond\u001b[0m\u001b[1;33m\u001b[0m\u001b[1;33m\u001b[0m\u001b[0m\n\u001b[0m\u001b[0;32m     20\u001b[0m         \u001b[1;32mreturn\u001b[0m \u001b[0mresult\u001b[0m\u001b[1;33m\u001b[0m\u001b[1;33m\u001b[0m\u001b[0m\n\u001b[0;32m     21\u001b[0m \u001b[1;33m\u001b[0m\u001b[0m\n",
      "\u001b[1;31mZeroDivisionError\u001b[0m: division by zero"
     ]
    }
   ],
   "source": [
    "c=FourCal()\n",
    "c.setdata(4,0)\n",
    "\n",
    "print(c.add())\n",
    "print(c.divide())\n",
    "\n",
    "#0으로 나누는 ZeroDivisionError가 발생"
   ]
  },
  {
   "cell_type": "markdown",
   "metadata": {},
   "source": [
    "부모클래스를 불러내서 복사본을 만든 다음, 기존 메서드에 수정을 가해보자"
   ]
  },
  {
   "cell_type": "code",
   "execution_count": 64,
   "metadata": {},
   "outputs": [
    {
     "name": "stdout",
     "output_type": "stream",
     "text": [
      "4\n",
      "0\n"
     ]
    }
   ],
   "source": [
    "class safeFourCal(FourCal):\n",
    "    def divide(self):\n",
    "        if self.second==0:\n",
    "            return 0\n",
    "        else:\n",
    "            return self.first/self.second\n",
    "        \n",
    "d=safeFourCal()\n",
    "d.setdata(4,0)\n",
    "\n",
    "print(d.subtract())\n",
    "print(d.divide())"
   ]
  },
  {
   "cell_type": "markdown",
   "metadata": {},
   "source": [
    "## 6. 클래스 변수"
   ]
  },
  {
   "cell_type": "markdown",
   "metadata": {},
   "source": [
    "클래스에 속하는 변수로 클래스 내부의 모든 객체에 통용되는 변수이다."
   ]
  },
  {
   "cell_type": "code",
   "execution_count": 65,
   "metadata": {},
   "outputs": [],
   "source": [
    "class Family:\n",
    "    lastname=\"김\""
   ]
  },
  {
   "cell_type": "markdown",
   "metadata": {},
   "source": [
    "Family 안에서 lastname이라는 변수는 모두 \"김\"이라는 값으로 통일 된 것."
   ]
  },
  {
   "cell_type": "code",
   "execution_count": 66,
   "metadata": {},
   "outputs": [
    {
     "name": "stdout",
     "output_type": "stream",
     "text": [
      "김\n"
     ]
    }
   ],
   "source": [
    "print(Family.lastname)"
   ]
  },
  {
   "cell_type": "code",
   "execution_count": 67,
   "metadata": {},
   "outputs": [
    {
     "name": "stdout",
     "output_type": "stream",
     "text": [
      "김\n",
      "김\n"
     ]
    }
   ],
   "source": [
    "a=Family()\n",
    "b=Family()\n",
    "print(a.lastname)\n",
    "print(b.lastname)"
   ]
  },
  {
   "cell_type": "markdown",
   "metadata": {},
   "source": [
    "클래스 변수 값을 바꿔도 마찬가지:"
   ]
  },
  {
   "cell_type": "code",
   "execution_count": 68,
   "metadata": {},
   "outputs": [],
   "source": [
    "Family.lastname=\"팽\""
   ]
  },
  {
   "cell_type": "code",
   "execution_count": 69,
   "metadata": {},
   "outputs": [
    {
     "name": "stdout",
     "output_type": "stream",
     "text": [
      "팽\n",
      "팽\n"
     ]
    }
   ],
   "source": [
    "print(a.lastname)\n",
    "print(b.lastname)"
   ]
  },
  {
   "cell_type": "code",
   "execution_count": null,
   "metadata": {},
   "outputs": [],
   "source": []
  }
 ],
 "metadata": {
  "kernelspec": {
   "display_name": "Python 3",
   "language": "python",
   "name": "python3"
  },
  "language_info": {
   "codemirror_mode": {
    "name": "ipython",
    "version": 3
   },
   "file_extension": ".py",
   "mimetype": "text/x-python",
   "name": "python",
   "nbconvert_exporter": "python",
   "pygments_lexer": "ipython3",
   "version": "3.7.3"
  }
 },
 "nbformat": 4,
 "nbformat_minor": 2
}
