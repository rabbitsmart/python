{
 "cells": [
  {
   "cell_type": "markdown",
   "metadata": {},
   "source": [
    "# W2"
   ]
  },
  {
   "cell_type": "markdown",
   "metadata": {},
   "source": [
    "# Numbers and Strings"
   ]
  },
  {
   "cell_type": "markdown",
   "metadata": {},
   "source": [
    "### SeungWoo Yang"
   ]
  },
  {
   "cell_type": "markdown",
   "metadata": {},
   "source": [
    "### 2019 September"
   ]
  },
  {
   "cell_type": "markdown",
   "metadata": {},
   "source": [
    "# 1. Numbers"
   ]
  },
  {
   "cell_type": "markdown",
   "metadata": {},
   "source": [
    "### 1) Integer: Natural numbers in form of either positive or negative including 0"
   ]
  },
  {
   "cell_type": "code",
   "execution_count": 2,
   "metadata": {},
   "outputs": [],
   "source": [
    "a=111\n",
    "a=0\n",
    "a=-111"
   ]
  },
  {
   "cell_type": "markdown",
   "metadata": {},
   "source": [
    "### 2) Floating-Point: Real number with a decimal"
   ]
  },
  {
   "cell_type": "code",
   "execution_count": 3,
   "metadata": {},
   "outputs": [],
   "source": [
    "a=11.11\n",
    "a=-111.11\n",
    "a=111E111\n",
    "a=1.11e-10"
   ]
  },
  {
   "cell_type": "markdown",
   "metadata": {},
   "source": [
    "### 3) Octal and Hex"
   ]
  },
  {
   "cell_type": "markdown",
   "metadata": {},
   "source": [
    "#### * In order to create on Octal, add a 0o or 0O infront of the number\n",
    "#### * In order to create on Hex, add 0x infront of the number"
   ]
  },
  {
   "cell_type": "code",
   "execution_count": 4,
   "metadata": {},
   "outputs": [],
   "source": [
    "a=0o54\n",
    "a=0O46"
   ]
  },
  {
   "cell_type": "code",
   "execution_count": 5,
   "metadata": {},
   "outputs": [],
   "source": [
    "a=0x111\n",
    "a=0xAC"
   ]
  },
  {
   "cell_type": "markdown",
   "metadata": {},
   "source": [
    "# 2. Calculating Numbers"
   ]
  },
  {
   "cell_type": "markdown",
   "metadata": {},
   "source": [
    "### 1) Addition and Subtraction\n",
    "#### * Use the symbol '+' or '-' between numbers that you'd like to add or subtract"
   ]
  },
  {
   "cell_type": "code",
   "execution_count": 8,
   "metadata": {},
   "outputs": [],
   "source": [
    "a=14.567\n",
    "b=654.9356\n",
    "c=-567"
   ]
  },
  {
   "cell_type": "code",
   "execution_count": 9,
   "metadata": {},
   "outputs": [
    {
     "name": "stdout",
     "output_type": "stream",
     "text": [
      "669.5026\n",
      "102.50260000000003\n",
      "-73.36860000000001\n"
     ]
    }
   ],
   "source": [
    "print(a+b)\n",
    "print(a+b+c)\n",
    "print(a-b-c)"
   ]
  },
  {
   "cell_type": "markdown",
   "metadata": {},
   "source": [
    "### 2) Multiplication and Division\n",
    "#### * Use the symbol '*' or '/' between numbers for multiplication or division"
   ]
  },
  {
   "cell_type": "code",
   "execution_count": 10,
   "metadata": {},
   "outputs": [],
   "source": [
    "a=24\n",
    "b=64\n",
    "c=72"
   ]
  },
  {
   "cell_type": "code",
   "execution_count": 12,
   "metadata": {},
   "outputs": [
    {
     "name": "stdout",
     "output_type": "stream",
     "text": [
      "1536\n",
      "21.333333333333332\n"
     ]
    }
   ],
   "source": [
    "print(a*b)\n",
    "print(a*b/c)"
   ]
  },
  {
   "cell_type": "markdown",
   "metadata": {},
   "source": [
    "### 3) Calculation Sequence\n",
    "#### * '()' is used to calculate equations that needs to be calculated first\n",
    "#### * If '()' is not used, multiplicaiton and dividsions are calculated first"
   ]
  },
  {
   "cell_type": "code",
   "execution_count": 13,
   "metadata": {},
   "outputs": [],
   "source": [
    "a=45\n",
    "b=3\n",
    "c=12"
   ]
  },
  {
   "cell_type": "code",
   "execution_count": 14,
   "metadata": {},
   "outputs": [
    {
     "name": "stdout",
     "output_type": "stream",
     "text": [
      "81\n",
      "576\n"
     ]
    }
   ],
   "source": [
    "print(a+b*c)\n",
    "print((a+b)*c)"
   ]
  },
  {
   "cell_type": "markdown",
   "metadata": {},
   "source": [
    "### 4) Square\n",
    "#### * Use '**' in order to calculate x square y"
   ]
  },
  {
   "cell_type": "code",
   "execution_count": 22,
   "metadata": {},
   "outputs": [],
   "source": [
    "a=3\n",
    "b=2"
   ]
  },
  {
   "cell_type": "code",
   "execution_count": 23,
   "metadata": {},
   "outputs": [
    {
     "name": "stdout",
     "output_type": "stream",
     "text": [
      "9\n"
     ]
    }
   ],
   "source": [
    "print(a**b)"
   ]
  },
  {
   "cell_type": "markdown",
   "metadata": {},
   "source": [
    "### 5) Quotient and Remainder\n",
    "#### * Use '%' to calculate remainder\n",
    "#### * Use '//' to calculate only the Quotient"
   ]
  },
  {
   "cell_type": "code",
   "execution_count": 33,
   "metadata": {},
   "outputs": [],
   "source": [
    "a=17\n",
    "b=7"
   ]
  },
  {
   "cell_type": "code",
   "execution_count": 36,
   "metadata": {},
   "outputs": [
    {
     "name": "stdout",
     "output_type": "stream",
     "text": [
      "3\n",
      "2\n"
     ]
    }
   ],
   "source": [
    "print(a%b)\n",
    "print(a//b)"
   ]
  },
  {
   "cell_type": "markdown",
   "metadata": {},
   "source": [
    "# 2. String"
   ]
  },
  {
   "cell_type": "markdown",
   "metadata": {},
   "source": [
    "### 1) Creating String\n",
    "#### * Use either small or large quatation mark between words that you'd like to print\n",
    "#### * Use triple samll quatation in order to print sentences going over lines"
   ]
  },
  {
   "cell_type": "code",
   "execution_count": 44,
   "metadata": {},
   "outputs": [],
   "source": [
    "a='I currently work as a RA in a lab'\n",
    "b=\"sometimes I feel like a mouse in an animal experiment\"\n",
    "c='Hello Algernon!'\n",
    "d='''I use to live in Sincheon, but my parents figured\n",
    "it was not a good place to live for a kid'''"
   ]
  },
  {
   "cell_type": "code",
   "execution_count": 45,
   "metadata": {},
   "outputs": [
    {
     "name": "stdout",
     "output_type": "stream",
     "text": [
      "I currently work as a RA in a lab\n",
      "sometimes I feel like a mouse in an animal experiment\n",
      "Hello Algernon!\n",
      "I use to live in Sincheon, but my parents figured\n",
      "it was not a good place to live for a kid\n"
     ]
    }
   ],
   "source": [
    "print(a)\n",
    "print(b)\n",
    "print(c)\n",
    "print(d)"
   ]
  },
  {
   "cell_type": "markdown",
   "metadata": {},
   "source": [
    "### 2) Using Quatation mark inside a string\n",
    "#### * In a small quatation, use large quatation.\n",
    "#### * In a large quatation, use small quatation.\n",
    "#### * Utilize Escaping by placing '\\' infront of the quotation that you'd like to use in a sentence or word"
   ]
  },
  {
   "cell_type": "code",
   "execution_count": 50,
   "metadata": {},
   "outputs": [],
   "source": [
    "a='He said \"Well, I just hate that kid.\"'\n",
    "b=\"Did you hear what he said? he just said, 'I have been looking for exam answer sheets'\"\n",
    "c='There aren\\'t many apples left in the fridge'"
   ]
  },
  {
   "cell_type": "code",
   "execution_count": 51,
   "metadata": {},
   "outputs": [
    {
     "name": "stdout",
     "output_type": "stream",
     "text": [
      "He said \"Well, I just hate that kid.\"\n",
      "Did you hear what he said? he just said, 'I have been looking for exam answer sheets'\n",
      "There aren't many apples left in the fridge\n"
     ]
    }
   ],
   "source": [
    "print(a)\n",
    "print(b)\n",
    "print(c)"
   ]
  },
  {
   "cell_type": "markdown",
   "metadata": {},
   "source": [
    "### 3) Escape Code\n",
    "#### * Escape codes are used to conveniently organize printed strings\n",
    "#### - \\n : Change line\n",
    "#### - \\t : place a tab space in between strings\n",
    "#### - \\\\ : Print the symbol \\\n",
    "#### - \\' : Print the symbol '\n",
    "#### - \\\" : Print the symbol \""
   ]
  },
  {
   "cell_type": "code",
   "execution_count": 53,
   "metadata": {},
   "outputs": [],
   "source": [
    "a='It is almost 3 o\\'clock in the morning, and I\\'d really like to get some good night sleep.\\n But then I just heard a scream next door, should I check whats going on?'"
   ]
  },
  {
   "cell_type": "code",
   "execution_count": 56,
   "metadata": {},
   "outputs": [
    {
     "name": "stdout",
     "output_type": "stream",
     "text": [
      "It is almost 3 o'clock in the morning, and I'd really like to get some good night sleep.\n",
      " But then I just heard a scream next door, should I check whats going on?\n"
     ]
    }
   ],
   "source": [
    "print(a)"
   ]
  },
  {
   "cell_type": "markdown",
   "metadata": {},
   "source": [
    "### 3) String Calculation\n",
    "#### (1) Concatenation"
   ]
  },
  {
   "cell_type": "code",
   "execution_count": 59,
   "metadata": {},
   "outputs": [
    {
     "name": "stdout",
     "output_type": "stream",
     "text": [
      "I need a screen tabletto draw a good digital art\n"
     ]
    }
   ],
   "source": [
    "a='I need a screen tablet'\n",
    "b='to draw a good digital art'\n",
    "print(a+b)"
   ]
  },
  {
   "cell_type": "markdown",
   "metadata": {},
   "source": [
    "#### (2) Multiplication"
   ]
  },
  {
   "cell_type": "code",
   "execution_count": 62,
   "metadata": {},
   "outputs": [
    {
     "name": "stdout",
     "output_type": "stream",
     "text": [
      "Fussy Wassy was a bear, Fussy Wassy had no hair. Fussy Wussy wasn't fussy was he?Fussy Wassy was a bear, Fussy Wassy had no hair. Fussy Wussy wasn't fussy was he?Fussy Wassy was a bear, Fussy Wassy had no hair. Fussy Wussy wasn't fussy was he?Fussy Wassy was a bear, Fussy Wassy had no hair. Fussy Wussy wasn't fussy was he?Fussy Wassy was a bear, Fussy Wassy had no hair. Fussy Wussy wasn't fussy was he?Fussy Wassy was a bear, Fussy Wassy had no hair. Fussy Wussy wasn't fussy was he?Fussy Wassy was a bear, Fussy Wassy had no hair. Fussy Wussy wasn't fussy was he?Fussy Wassy was a bear, Fussy Wassy had no hair. Fussy Wussy wasn't fussy was he?Fussy Wassy was a bear, Fussy Wassy had no hair. Fussy Wussy wasn't fussy was he?Fussy Wassy was a bear, Fussy Wassy had no hair. Fussy Wussy wasn't fussy was he?Fussy Wassy was a bear, Fussy Wassy had no hair. Fussy Wussy wasn't fussy was he?Fussy Wassy was a bear, Fussy Wassy had no hair. Fussy Wussy wasn't fussy was he?Fussy Wassy was a bear, Fussy Wassy had no hair. Fussy Wussy wasn't fussy was he?Fussy Wassy was a bear, Fussy Wassy had no hair. Fussy Wussy wasn't fussy was he?Fussy Wassy was a bear, Fussy Wassy had no hair. Fussy Wussy wasn't fussy was he?Fussy Wassy was a bear, Fussy Wassy had no hair. Fussy Wussy wasn't fussy was he?Fussy Wassy was a bear, Fussy Wassy had no hair. Fussy Wussy wasn't fussy was he?Fussy Wassy was a bear, Fussy Wassy had no hair. Fussy Wussy wasn't fussy was he?Fussy Wassy was a bear, Fussy Wassy had no hair. Fussy Wussy wasn't fussy was he?Fussy Wassy was a bear, Fussy Wassy had no hair. Fussy Wussy wasn't fussy was he?\n"
     ]
    }
   ],
   "source": [
    "a= 'Fussy Wassy was a bear, Fussy Wassy had no hair. Fussy Wussy wasn\\'t fussy was he?'\n",
    "print(a*20)"
   ]
  },
  {
   "cell_type": "markdown",
   "metadata": {},
   "source": [
    "#### (3) Calculating the length of the string"
   ]
  },
  {
   "cell_type": "code",
   "execution_count": 64,
   "metadata": {},
   "outputs": [
    {
     "data": {
      "text/plain": [
       "63"
      ]
     },
     "execution_count": 64,
     "metadata": {},
     "output_type": "execute_result"
    }
   ],
   "source": [
    "a='I\\'ve been working all day. Do you happen to have any good food?'\n",
    "len(a)"
   ]
  }
 ],
 "metadata": {
  "kernelspec": {
   "display_name": "Python 3",
   "language": "python",
   "name": "python3"
  },
  "language_info": {
   "codemirror_mode": {
    "name": "ipython",
    "version": 3
   },
   "file_extension": ".py",
   "mimetype": "text/x-python",
   "name": "python",
   "nbconvert_exporter": "python",
   "pygments_lexer": "ipython3",
   "version": "3.7.3"
  }
 },
 "nbformat": 4,
 "nbformat_minor": 2
}
